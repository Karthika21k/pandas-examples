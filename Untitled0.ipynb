{
  "cells": [
    {
      "cell_type": "markdown",
      "metadata": {
        "id": "view-in-github",
        "colab_type": "text"
      },
      "source": [
        "<a href=\"https://colab.research.google.com/github/Karthika21k/pandas-examples/blob/main/Untitled0.ipynb\" target=\"_parent\"><img src=\"https://colab.research.google.com/assets/colab-badge.svg\" alt=\"Open In Colab\"/></a>"
      ]
    },
    {
      "cell_type": "code",
      "execution_count": null,
      "metadata": {
        "id": "pflv4fLpVayI"
      },
      "outputs": [],
      "source": [
        "import pandas as pd\n",
        "\n",
        "name = [\"karthika\", \"kamatchi\", \"varun\",\"sana\"]\n",
        "department = [\"ECE\",\"CSE\",\"EEE\",\"IT\"]\n",
        "rank = [3, 1, 4, 2]\n",
        "\n",
        "dict = {\"Name\" : name ,\"department\" : \"Department\" ,\"Rank\" : rank}\n",
        "\n",
        "data = pd.DataFrame(dict)\n",
        "\n",
        "print(data)\n",
        "\n",
        "\n",
        "\n",
        "\n",
        "\n",
        "\n",
        "\n",
        "\n",
        "\n",
        "\n",
        "\n",
        "\n",
        "\n",
        "\n",
        "\n",
        "\n",
        "\n",
        "\n",
        "\n",
        "\n",
        "\n",
        "\n",
        "\n",
        "\n"
      ]
    }
  ],
  "metadata": {
    "colab": {
      "provenance": [],
      "authorship_tag": "ABX9TyNfOK8AgpS9/9TRfaJD9+gD",
      "include_colab_link": true
    },
    "kernelspec": {
      "display_name": "Python 3",
      "name": "python3"
    },
    "language_info": {
      "name": "python"
    }
  },
  "nbformat": 4,
  "nbformat_minor": 0
}